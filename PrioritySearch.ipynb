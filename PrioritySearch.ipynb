{
 "cells": [
  {
   "cell_type": "code",
   "execution_count": 50,
   "metadata": {
    "id": "Sk17Uyg4zT3k"
   },
   "outputs": [],
   "source": [
    "import numpy as np\n",
    "import pandas as pd\n",
    "import matplotlib.pyplot as plt\n",
    "from sklearn.linear_model import LinearRegression\n",
    "from sklearn.preprocessing import OneHotEncoder\n",
    "from sklearn.model_selection import train_test_split\n",
    "from itertools import combinations\n",
    "from sklearn.metrics import r2_score, mean_squared_error\n",
    "import random, pickle\n",
    "from tqdm import tqdm\n",
    "import warnings\n",
    "warnings.filterwarnings(\"ignore\")"
   ]
  },
  {
   "cell_type": "code",
   "execution_count": 60,
   "metadata": {
    "id": "LfFCPhyEmc9j"
   },
   "outputs": [],
   "source": [
    "# utils\n",
    "def oh_encode_data(df, cols):\n",
    "    encoder = OneHotEncoder(sparse_output=False)\n",
    "    encoded_df = pd.DataFrame(encoder.fit_transform(df[cols]), index=df.index)\n",
    "    encoded_df.columns = encoder.get_feature_names_out(cols)\n",
    "\n",
    "    return encoded_df\n",
    "\n",
    "def model_notation(columns):\n",
    "    \"\"\"\n",
    "    Encodes a list of column names into a model notation string.\n",
    "    The notation follows the format 'y ~ x1 + x2 + x3' for simple columns,\n",
    "    and 'y ~ x1 * x2 + x3' for interaction terms.\n",
    "    \"\"\"\n",
    "    terms = []\n",
    "    for col in sorted(columns):\n",
    "        if '_' in col:\n",
    "            col = col.split('_')\n",
    "            col = [s[0].upper() for s in col]\n",
    "            terms.append(\"*\".join(col))\n",
    "        else:\n",
    "            terms.append(col[0].upper())\n",
    "    model_notation = 'S ~ ' + ' + '.join(terms)\n",
    "    return model_notation"
   ]
  },
  {
   "cell_type": "code",
   "execution_count": 59,
   "metadata": {
    "id": "Xkc9HGwjmibk"
   },
   "outputs": [],
   "source": [
    "# main data generation\n",
    "def generate_data(n=1000):\n",
    "    np.random.seed(0)\n",
    "\n",
    "    data = {\n",
    "        'age': np.random.choice(age_levels, n),\n",
    "        'work': np.random.choice(work_levels, n),\n",
    "        'education': np.random.choice(education_levels, n),\n",
    "        'country': np.random.choice(country_codes, n),\n",
    "        'race': np.random.choice(races, n),\n",
    "        'gender': np.random.choice(genders, n),\n",
    "        'maritalStatus': np.random.choice(marital_statuses, n),\n",
    "        'occupation': np.random.choice(occupations, n),\n",
    "        # 'occupation': np.random.choice(occupations_minus_ceo, n),\n",
    "    }\n",
    "    df = pd.DataFrame(data)\n",
    "\n",
    "    # Enforce 50% married women\n",
    "    # married_female_indices = np.random.choice(df.index, size=int(n * 0.5), replace=False) ????\n",
    "    # df.loc[married_female_indices, 'maritalStatus'] = 'married'\n",
    "    # df.loc[married_female_indices, 'gender'] = 'F'\n",
    "\n",
    "    # keep #ceos small\n",
    "    # ceo_indices = np.random.choice(df.index, size=int(n * 0.01), replace=False) # bad for rand gen sampling\n",
    "    # df.loc[ceo_indices, 'occupation'] = 'CEO'\n",
    "\n",
    "    df['occupationWeight'] = df['occupation'].map(occupation_weights)\n",
    "    df['educationWeight'] = df['education'].map(education_level_weights)\n",
    "    df['workWeight'] = df['work'].map(work_class_weights)\n",
    "    df['countryWeight'] = df['country'].apply(lambda x: country_weights[country_codes.index(x)])\n",
    "    df['maritalStatus_gender'] = df['maritalStatus'] + '_' + df['gender']\n",
    "    df['maritalStatus_genderWeight'] = df['maritalStatus_gender'].map(marital_status_gender_weights)\n",
    "\n",
    "    df['salary'] = (df['occupationWeight'] + df['maritalStatus_genderWeight'] +\n",
    "                    df['educationWeight'] + df['workWeight'] +\n",
    "                    df['countryWeight']) * 8000\n",
    "    # add noise\n",
    "    df['salary'] += np.random.normal(0, 3000, n)\n",
    "\n",
    "    df.drop(columns=['occupationWeight', 'educationWeight', 'workWeight',\n",
    "                     'countryWeight', 'maritalStatus_gender', 'maritalStatus_genderWeight'],\n",
    "            inplace=True)\n",
    "\n",
    "    print(\"internal model made from:\", model_notation(['occupation', 'education', 'work', 'country',\n",
    "                                                       'maritalStatus_gender']))\n",
    "\n",
    "    return df"
   ]
  },
  {
   "cell_type": "code",
   "execution_count": 64,
   "metadata": {
    "colab": {
     "base_uri": "https://localhost:8080/"
    },
    "id": "M952T9wdyItS",
    "outputId": "4f2eddfb-8ff1-4306-f680-68918c502051"
   },
   "outputs": [
    {
     "name": "stdout",
     "output_type": "stream",
     "text": [
      "internal model made from: S ~ C + E + M*G + O + W\n",
      "average salary: 199555\n",
      "\n",
      "naive full model (using all 1st order features directly)\n",
      "R2: 0.70032, \n",
      "MSE over salary value: 670962217.2\n"
     ]
    }
   ],
   "source": [
    "age_levels = ['19-29', '30-44', '45-60']\n",
    "education_levels = ['school', 'bachelors', 'masters+']\n",
    "work_levels = ['private', 'public', 'self']\n",
    "country_codes = ['US', 'GB', 'CA', 'FR', 'DE', 'JP', 'CN', 'IN', 'BR', 'RU',\n",
    "                 'IT', 'AU', 'ZA', 'ES', 'KR', 'SE', 'CH', 'TR', 'NL', 'MX']\n",
    "races = ['W', 'B', 'A']\n",
    "genders = ['M', 'F']\n",
    "marital_statuses = ['single', 'married', 'divorced']\n",
    "occupations = ['sales', 'custserv', 'clerk', 'cashier', 'sec', 'teacher',\n",
    "               'nurse', 'account', 'dev', 'eng', 'doc', 'CEO']\n",
    "# occupations_minus_ceo = ['Sales', 'CustServ', 'Clerk', 'Cashier', 'Sec', 'Teacher',\n",
    "            #    'Nurse', 'Account', 'Dev', 'Eng', 'Doc']\n",
    "# skewed weights for female based on marital_status\n",
    "marital_status_gender_weights = { 'married_F': 4, 'married_M': 16, 'single_F': 20,\n",
    "                                 'single_M': 18, 'divorced_F': 15, 'divorced_M': 14}\n",
    "education_level_weights = {'school': 3, 'bachelors': 4, 'masters+': 6}\n",
    "work_class_weights = {'private': 1, 'public': 1.5, 'self': 2}\n",
    "country_weights = np.linspace(0, 1, 20)\n",
    "occupation_weights = {\n",
    "    'CEO': 12, 'eng': 6, 'doc': 6, 'dev': 5,\n",
    "    'sales': 2, 'custserv': 1, 'clerk': 1, 'cashier': 2, 'sec': 1.5, 'teacher': 3,\n",
    "    'nurse': 4, 'account': 5.5\n",
    "}\n",
    "column_values_count = {\n",
    "    'age': len(age_levels),  # 3 unique values\n",
    "    'work': len(work_levels),  # 3 unique values\n",
    "    'education': len(education_levels),  # 3 unique values\n",
    "    'country': len(country_codes),  # 20 unique values\n",
    "    'race': len(races),  # 3 unique values\n",
    "    'gender': len(genders),  # 2 unique values\n",
    "    'maritalStatus': len(marital_statuses),  # 3 unique values\n",
    "    'occupation': len(occupations)  # 12 unique values\n",
    "}\n",
    "# Generate dataset\n",
    "np.random.seed(0)  # For reproducibility\n",
    "data = generate_data(2000)\n",
    "print(f\"average salary: {int(data['salary'].mean())}\")\n",
    "input_data = data.drop('salary', axis = 1)\n",
    "\n",
    "encoder = OneHotEncoder(sparse = False)\n",
    "X = encoder.fit_transform(data.drop('salary', axis=1))\n",
    "y = data['salary'].values\n",
    "\n",
    "X_train, X_test, y_train, y_test = train_test_split(X, y, test_size=0.2, random_state=42)\n",
    "\n",
    "reg = LinearRegression()\n",
    "reg.fit(X_train, y_train)\n",
    "y_pred = reg.predict(X_test)\n",
    "\n",
    "r2 = r2_score(y_test, y_pred)\n",
    "mse = mean_squared_error(y_test, y_pred)\n",
    "\n",
    "print(f\"\\nnaive full model (using all 1st order features directly)\\nR2: {r2:.5f}, \\nMSE over salary value: {mse:.1f}\")"
   ]
  },
  {
   "cell_type": "code",
   "execution_count": 70,
   "metadata": {
    "id": "6Hi2K0eVDPum"
   },
   "outputs": [],
   "source": [
    "def add_n_combinations_of_2(data):\n",
    "  '''function used for generating the combination columns\n",
    "  the final data (refined_data) has list of n plus nc2 combinations'''\n",
    "  refined_data = data.copy()\n",
    "  column_names = refined_data.columns\n",
    "  combinations_2 = list(combinations(column_names, 2))\n",
    "  for combo in combinations_2:\n",
    "      new_column_name = f\"{combo[0]}_{combo[1]}\"\n",
    "      refined_data[new_column_name] = refined_data[combo[0]] + \"_\" + refined_data[combo[1]]\n",
    "  return refined_data\n",
    "\n",
    "# def subset_creation(actual_col_list, interaction_cols_list, refined_data,list_values,k_probabilities):\n",
    "#   '''Created a subset using the following assumptions:\n",
    "#    a) the number of picks from n samples must be more than the number of picks from nc2 samples.\n",
    "#    b) the number of  picks from nc2 samples must be either 0,1 or 2 and we are defining probabilities for picking these values.\n",
    "#   '''\n",
    "\n",
    "#   random_original_columns = random.sample(list(actual_col_list), k= random.randint(1,len(actual_col_list)))\n",
    "#   p = random.choices(list(k_probabilities.keys()), weights=k_probabilities.values())[0]\n",
    "#   k_min = min(p,len(random_original_columns))\n",
    "#   random_combinations_columns_wo_intersection = [value for value in interaction_cols_list if all(elem not in random_original_columns for elem in value.split('_'))]\n",
    "#   if len(random_combinations_columns_wo_intersection) < k_min:\n",
    "#     k_min = len(random_combinations_columns_wo_intersection)\n",
    "#   random_combinations_columns = random.sample(random_combinations_columns_wo_intersection, k = k_min)\n",
    "#   subset_data_with_interactions = refined_data[random_original_columns + random_combinations_columns]\n",
    "\n",
    "#   return subset_data_with_interactions\n",
    "\n",
    "def subset_creation(actual_col_list, interaction_cols_list, refined_data, list_values, k_probabilities):\n",
    "  '''Created a subset using the following assumptions:\n",
    "   a) the number of picks from n samples must be more than the number of picks from nc2 samples.\n",
    "   b) the number of  picks from nc2 samples must be either 0, 1 or 2 and we are defining probabilities for picking these values.\n",
    "  '''\n",
    "\n",
    "  k_comb = random.choices(list(k_probabilities.keys()), weights=k_probabilities.values())[0]\n",
    "  random_combinations_columns = random.sample(interaction_cols_list, k = k_comb)\n",
    "  individual_interaction_columns = set(column for combined_features in random_combinations_columns for column in combined_features.split('_'))\n",
    "  original_columns_wo_intersection = [column for column in actual_col_list if column not in individual_interaction_columns]\n",
    "  random_original_columns = random.sample(list(original_columns_wo_intersection), k = random.randint(1,len(original_columns_wo_intersection)))\n",
    "  subset_data_with_interactions = refined_data[random_original_columns + random_combinations_columns]\n",
    "\n",
    "  return subset_data_with_interactions, random_original_columns + random_combinations_columns\n",
    "\n",
    "def subset_fit_model_score(subset, y):\n",
    "  '''In this function we are fitting the subset and calculating the required metrix after performing the one-hot encoding on the categorical columns.'''\n",
    "  encoder = OneHotEncoder()\n",
    "  X = encoder.fit_transform(subset)\n",
    "  X_train, X_test, y_train, y_test = train_test_split(X, y, test_size=0.2, random_state=42)\n",
    "  reg = LinearRegression()\n",
    "  reg.fit(X_train, y_train)\n",
    "  y_pred = reg.predict(X_test)\n",
    "  r2 = r2_score(y_test, y_pred)\n",
    "  mse = mean_squared_error(y_test, y_pred)\n",
    "  return reg, r2, mse\n",
    "\n",
    "def get_num_params(columns):\n",
    "  total_values = 0\n",
    "  for col in columns:\n",
    "      if '_' in col:\n",
    "          parts = col.split('_')\n",
    "          col_value = 1\n",
    "          for part in parts:\n",
    "              col_value *= column_values_count[part]\n",
    "          total_values += col_value\n",
    "      else:\n",
    "          total_values += column_values_count[col]\n",
    "  return total_values\n",
    "\n",
    "def main(X, y, samples_range):\n",
    "  ''' Samples N times and return the best model'''\n",
    "  refined_data = add_n_combinations_of_2(X)\n",
    "  actual_col_list =  refined_data.columns[:(len(X.columns))]\n",
    "  interaction_cols_list =  [value for value in refined_data.columns if value not in actual_col_list]\n",
    "\n",
    "  max_r2 = 0\n",
    "  best_subset_model = {\"model\":\"\", \"dataset\": \"\", \"r2_score\": 0}\n",
    "  sampled_iters = []\n",
    "  best_r2_at_iter = []\n",
    "  for limit in range(0,samples_range):\n",
    "    subset_data, columns = subset_creation(actual_col_list, interaction_cols_list, refined_data, list_values, k_probabilities)\n",
    "    model, subset_r2, subset_mse = subset_fit_model_score(subset_data, y)\n",
    "\n",
    "    if model_notation(columns) == \"S ~ C + E + M*G + O + W\":\n",
    "      print(\"reached best model\")\n",
    "\n",
    "    if best_subset_model['r2_score'] < subset_r2:\n",
    "      best_subset_model['r2_score'] = subset_r2\n",
    "      best_subset_model['model'] = model\n",
    "      best_subset_model['dataset'] = subset_data\n",
    "      print(f\"At iter {limit} found new best:\\t\", model_notation(columns), f\"\\tof score {subset_r2:.5f} has {get_num_params(columns)} params\")\n",
    "\n",
    "      sampled_iters.append(limit+1)\n",
    "      best_r2_at_iter.append(best_subset_model['r2_score'])\n",
    "    # if (limit+1) % 10 == 0:\n",
    "\n",
    "  return {\n",
    "        \"best_subset_model\": best_subset_model,\n",
    "        \"sampled_iters\": sampled_iters,\n",
    "        \"best_r2_at_iter\": best_r2_at_iter\n",
    "    }"
   ]
  },
  {
   "cell_type": "code",
   "execution_count": 71,
   "metadata": {
    "colab": {
     "base_uri": "https://localhost:8080/"
    },
    "id": "6rHrT_v3QHaL",
    "outputId": "979d02da-c346-4c10-bdf6-249e49b048df"
   },
   "outputs": [
    {
     "name": "stdout",
     "output_type": "stream",
     "text": [
      "true target model is:\tS ~ C + E + G*M + O + W\n",
      "At iter 0 found new best:\t S ~ C + O \tof score 0.26997 has 32 params\n",
      "At iter 1 found new best:\t S ~ G + O \tof score 0.35420 has 14 params\n",
      "At iter 2 found new best:\t S ~ C*M + O + W \tof score 0.59001 has 75 params\n",
      "At iter 6 found new best:\t S ~ G + M + O \tof score 0.66560 has 17 params\n",
      "At iter 11 found new best:\t S ~ A + C + G + O + R*M + W*E \tof score 0.70289 has 55 params\n",
      "At iter 27 found new best:\t S ~ C + E + G*M + O + R \tof score 0.99061 has 44 params\n",
      "At iter 73 found new best:\t S ~ A + E + G*M + O + R + W \tof score 0.99345 has 30 params\n",
      "At iter 293 found new best:\t S ~ A + C + E + G*M + O + R + W \tof score 0.99566 has 50 params\n",
      "At iter 3434 found new best:\t S ~ C + E + G*M + O + W \tof score 0.99568 has 44 params\n",
      "At iter 4284 found new best:\t S ~ A + C + E + G*M + R + W*O \tof score 0.99572 has 71 params\n",
      "CPU times: user 1min 11s, sys: 274 ms, total: 1min 11s\n",
      "Wall time: 1min 17s\n"
     ]
    }
   ],
   "source": [
    "%%time\n",
    "print(\"true target model is:\\tS ~ C + E + G*M + O + W\")\n",
    "X = data.drop('salary', axis = 1)\n",
    "y = data['salary'].values\n",
    "\n",
    "list_values = [0, 1, 2]\n",
    "k_probabilities = {0: 0.4, 1: 0.5, 2: 0.1}\n",
    "samples_range = 5000\n",
    "\n",
    "result = main(X, y, samples_range)"
   ]
  },
  {
   "cell_type": "markdown",
   "metadata": {
    "id": "Y1eoyqbhRSTV"
   },
   "source": [
    "At iter 3434, true model was captured. The better scoring model found later is overfit with more parameters (a superset of the already found true model), both have the almost same score."
   ]
  },
  {
   "cell_type": "code",
   "execution_count": 72,
   "metadata": {
    "colab": {
     "base_uri": "https://localhost:8080/"
    },
    "id": "eA3OcjYi1bWy",
    "outputId": "2bf638e2-64df-497d-e877-86dfaf4a12f6"
   },
   "outputs": [
    {
     "name": "stdout",
     "output_type": "stream",
     "text": [
      "Results have been saved to model_results.csv\n"
     ]
    }
   ],
   "source": [
    "df = pd.DataFrame({\n",
    "    'sampled_iters': result['sampled_iters'],\n",
    "    'best_r2_at_iter': result['best_r2_at_iter']\n",
    "})\n",
    "csv_filename = 'model_results.csv'\n",
    "df.to_csv(csv_filename, index=False)\n",
    "\n",
    "print(f\"Results have been saved to {csv_filename}\")"
   ]
  },
  {
   "cell_type": "code",
   "execution_count": 77,
   "metadata": {
    "colab": {
     "base_uri": "https://localhost:8080/",
     "height": 855
    },
    "id": "jM_Skm4DTOWF",
    "outputId": "5d2d41ed-2351-484e-889e-b064b303971e"
   },
   "outputs": [
    {
     "data": {
      "image/png": "[encoded data removed]",
      "text/plain": [
       "<Figure size 800x600 with 1 Axes>"
      ]
     },
     "metadata": {},
     "output_type": "display_data"
    },
    {
     "data": {
      "text/plain": [
       "{'model': LinearRegression(),\n",
       " 'dataset':      race  education country    age  work_occupation gender_maritalStatus\n",
       " 0       W   masters+      TR  19-29     public_clerk             F_single\n",
       " 1       B  bachelors      GB  30-44   public_account             M_single\n",
       " 2       A  bachelors      GB  19-29  private_account           M_divorced\n",
       " 3       W     school      IN  30-44  public_custserv           M_divorced\n",
       " 4       A  bachelors      US  30-44      private_sec           M_divorced\n",
       " ...   ...        ...     ...    ...              ...                  ...\n",
       " 1995    B   masters+      ES  19-29      private_sec             M_single\n",
       " 1996    B     school      GB  45-60    private_sales            F_married\n",
       " 1997    B   masters+      KR  19-29       self_clerk           F_divorced\n",
       " 1998    A  bachelors      ZA  30-44     public_nurse           M_divorced\n",
       " 1999    B   masters+      US  45-60     self_account             M_single\n",
       " \n",
       " [2000 rows x 6 columns],\n",
       " 'r2_score': 0.9957167958335483}"
      ]
     },
     "execution_count": 77,
     "metadata": {},
     "output_type": "execute_result"
    }
   ],
   "source": [
    "plt.figure(figsize=(8, 6))\n",
    "plt.plot(result['sampled_iters'], result['best_r2_at_iter'])  # Removed the marker to not dot individual points\n",
    "plt.xscale('log')\n",
    "plt.ylim(0.1, 1)\n",
    "plt.title('R^2 Values Over Iterations', fontsize=16)\n",
    "plt.xlabel('Iterations', fontsize=14)\n",
    "plt.ylabel('R^2 Value', fontsize=14)\n",
    "plt.grid(True)\n",
    "plt.xticks(fontsize=12)\n",
    "plt.yticks(fontsize=12)\n",
    "plt.show()\n",
    "\n",
    "result['best_subset_model']"
   ]
  },
  {
   "cell_type": "code",
   "execution_count": 78,
   "metadata": {
    "colab": {
     "base_uri": "https://localhost:8080/"
    },
    "id": "zeo570wk7FNT",
    "outputId": "22d85fdf-8e7a-42f7-9baf-81d24aa2fe4d"
   },
   "outputs": [
    {
     "name": "stdout",
     "output_type": "stream",
     "text": [
      "dict_keys(['best_subset_model', 'sampled_iters', 'best_r2_at_iter'])\n"
     ]
    }
   ],
   "source": [
    "print(result.keys())"
   ]
  }
 ],
 "metadata": {
  "colab": {
   "provenance": []
  },
  "kernelspec": {
   "display_name": "Python 3 (ipykernel)",
   "language": "python",
   "name": "python3"
  },
  "language_info": {
   "codemirror_mode": {
    "name": "ipython",
    "version": 3
   },
   "file_extension": ".py",
   "mimetype": "text/x-python",
   "name": "python",
   "nbconvert_exporter": "python",
   "pygments_lexer": "ipython3",
   "version": "3.10.13"
  }
 },
 "nbformat": 4,
 "nbformat_minor": 4
}
